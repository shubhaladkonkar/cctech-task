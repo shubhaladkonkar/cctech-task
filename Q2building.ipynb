{
  "nbformat": 4,
  "nbformat_minor": 0,
  "metadata": {
    "colab": {
      "name": "Q2building.ipynb",
      "provenance": [],
      "collapsed_sections": []
    },
    "kernelspec": {
      "name": "python3",
      "display_name": "Python 3"
    }
  },
  "cells": [
    {
      "cell_type": "code",
      "metadata": {
        "id": "JtR_2h2TmRW_",
        "outputId": "fdd617b6-e925-45dd-e19d-35b8565d410f",
        "colab": {
          "base_uri": "https://localhost:8080/",
          "height": 185
        }
      },
      "source": [
        "import collections\n",
        "import math\n",
        "\n",
        "\n",
        "def brightsurface(build, sun):\n",
        "    d={}\n",
        "    for i in range(len(build)):\n",
        "            l= math.sqrt((sun[0]-build[i][0][0])**2+(sun[1]-build[i][0][1])**2)\n",
        "            print(l)\n",
        "            d[l]=build[i]\n",
        "    print(len(d))\n",
        "    d=collections.OrderedDict(sorted(d.items()))\n",
        "    print(d)\n",
        "    i=0\n",
        "    t=0\n",
        "    for key,value in d.items():\n",
        "        if(i==0):\n",
        "            t=t+math.sqrt((value[0][0]-value[1][0])**2+(value[0][1]-value[1][1])**2)+math.sqrt((value[0][0]-value[3][0])**2+(value[0][1]-value[3][1])**2)\n",
        "            print(\"t1\", t)\n",
        "        else:\n",
        "            t=t+math.sqrt((value[0][0]-value[3][0])**2+(value[0][1]-value[3][1])**2)\n",
        "            print(\"t2\", t)\n",
        "            m=(sun[1]-fourthcor[1])/(sun[0]-fourthcor[0])\n",
        "            print(\"m\", m)\n",
        "            # illuminted part of building hiddent behind the building before\n",
        "            opp=math.sqrt((thirdcor[0]-value[1][0])**2+(thirdcor[1]-value[1][1])**2)\n",
        "            print(\"opp\", opp)\n",
        "            theta=abs(math.atan(1/m))\n",
        "            x=opp/math.tan(theta)\n",
        "            print(\"x\", x)\n",
        "            #difference between heights of buildings\n",
        "            diff=math.sqrt(((fourthcor[0]+opp)-value[0][0])**2+(fourthcor[1]-value[0][1])**2)\n",
        "            t=t+x+diff;                              \n",
        "        thirdcor=value[2]\n",
        "        fourthcor=value[3]\n",
        "        i=i+1\n",
        "    return t\n",
        "  \n",
        "\n",
        "build=[[[4,0],[4,-5],[7,-5],[7,0]],[[0.4,-2],[0.4,-5],[2.5,-5],[2.5,-2]]]\n",
        "sun=[-3.5,1]\n",
        "print(\"Total surface area is \", brightsurface(build, sun))"
      ],
      "execution_count": 1,
      "outputs": [
        {
          "output_type": "stream",
          "text": [
            "7.566372975210778\n",
            "4.920365840057018\n",
            "2\n",
            "OrderedDict([(4.920365840057018, [[0.4, -2], [0.4, -5], [2.5, -5], [2.5, -2]]), (7.566372975210778, [[4, 0], [4, -5], [7, -5], [7, 0]])])\n",
            "t1 5.1\n",
            "t2 8.1\n",
            "m -0.5\n",
            "opp 1.5\n",
            "x 0.7500000000000002\n",
            "Total surface area is  10.85\n"
          ],
          "name": "stdout"
        }
      ]
    }
  ]
}