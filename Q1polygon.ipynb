{
  "nbformat": 4,
  "nbformat_minor": 0,
  "metadata": {
    "colab": {
      "name": "Q1polygon.ipynb",
      "provenance": []
    },
    "kernelspec": {
      "name": "python3",
      "display_name": "Python 3"
    }
  },
  "cells": [
    {
      "cell_type": "code",
      "metadata": {
        "id": "iwDhPwO9ms3g",
        "outputId": "72533b97-d640-4d0f-8f3b-b07087c9581a",
        "colab": {
          "base_uri": "https://localhost:8080/",
          "height": 34
        }
      },
      "source": [
        "def online(line, p):\n",
        "    if (p[0] <= math.max(line[0][0], line[1][0]) and p[0] <= math.min(line[0][0], line[1][0])) and (p[1] <= math.max(line[0][1], line[1][1]) and p[1] <= math.min(line[0][1], line[1][1])):\n",
        "        return True\n",
        "    return False\n",
        "\n",
        "def direction(a, b, c):\n",
        "    val=(b[1]-a[1])*(c[0]-b[0])-(b[0]-a[0])*(c[1]-b[1])\n",
        "    if val==0:\n",
        "        return 0;\n",
        "    elif val < 0:\n",
        "        return 2\n",
        "    return 1\n",
        "\n",
        "def intersect(side, line):\n",
        "    dir1= direction(side[0], side[1], line[0])\n",
        "    dir2= direction(side[0], side[1], line[1])\n",
        "    dir3= direction(line[0], line[1], side[0])\n",
        "    dir4= direction(line[0], line[1], side[1])\n",
        "    #line intersect\n",
        "    if dir1!=dir2 and dir3!=dir4:\n",
        "        return True\n",
        "    #When line[1] is on the side\n",
        "    if dir1==0 and online(side, line[0]):\n",
        "        return True\n",
        "    #when line[0] is on side\n",
        "    if dir2==0 and online(side, line[1]):\n",
        "        return True\n",
        "    #when side[1] is on the line\n",
        "    if dir3==0 and online(line, side[0]):\n",
        "        return True\n",
        "    #when side[0] is on the line\n",
        "    if dir4==0 and online(line, side[1]):\n",
        "        return True\n",
        "    return False\n",
        "    \n",
        "def polypoint(polygon, point):\n",
        "    l=len(polygon)\n",
        "    if l < 3:\n",
        "        return False\n",
        "    line=[point, [9999, point[1] ]]\n",
        "    count=0\n",
        "    i=0\n",
        "    while True:\n",
        "        side=[polygon[i], polygon[(i+1)%l]]\n",
        "        if(intersect(side, line)):\n",
        "            if(direction(side[0], point, side[1])==0):\n",
        "                return online( side, point)\n",
        "            count=count+1\n",
        "        i=(i+1)%l\n",
        "        if i==0:\n",
        "            break\n",
        "    if count%2==0:\n",
        "        return False\n",
        "    else:\n",
        "        return True\n",
        "\n",
        "\n",
        "\n",
        "polygon=[[0,0],[10,0],[10,10],[0,10]]\n",
        "point=[1,-3]\n",
        "\n",
        "polypoint(polygon, point)\n",
        " "
      ],
      "execution_count": 1,
      "outputs": [
        {
          "output_type": "execute_result",
          "data": {
            "text/plain": [
              "False"
            ]
          },
          "metadata": {
            "tags": []
          },
          "execution_count": 1
        }
      ]
    }
  ]
}